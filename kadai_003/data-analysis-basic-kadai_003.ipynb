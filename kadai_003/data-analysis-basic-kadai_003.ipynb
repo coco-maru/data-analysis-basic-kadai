{
  "cells": [
    {
      "cell_type": "code",
      "source": [
        "import numpy as np\n",
        "a =np.array([[0,1],[2,3],[4,5]])\n",
        "b = np.array([[0,1,2,3],[4,5,6,7]])\n",
        "c= a.dot(b)\n",
        "print(c)\n",
        "print(c.max())"
      ],
      "metadata": {
        "id": "Ks_ETvW1Fpgl",
        "outputId": "d355c4b9-037c-4949-aea9-e910239dc0ae",
        "colab": {
          "base_uri": "https://localhost:8080/"
        }
      },
      "execution_count": 1,
      "outputs": [
        {
          "output_type": "stream",
          "name": "stdout",
          "text": [
            "[[ 4  5  6  7]\n",
            " [12 17 22 27]\n",
            " [20 29 38 47]]\n",
            "47\n"
          ]
        }
      ]
    }
  ],
  "metadata": {
    "colab": {
      "provenance": []
    },
    "kernelspec": {
      "display_name": "Python 3",
      "name": "python3"
    },
    "language_info": {
      "name": "python"
    }
  },
  "nbformat": 4,
  "nbformat_minor": 0
}