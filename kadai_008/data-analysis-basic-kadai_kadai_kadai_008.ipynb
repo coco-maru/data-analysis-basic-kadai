{
  "nbformat": 4,
  "nbformat_minor": 0,
  "metadata": {
    "colab": {
      "provenance": []
    },
    "kernelspec": {
      "name": "python3",
      "display_name": "Python 3"
    },
    "language_info": {
      "name": "python"
    }
  },
  "cells": [
    {
      "cell_type": "code",
      "execution_count": 5,
      "metadata": {
        "colab": {
          "base_uri": "https://localhost:8080/"
        },
        "id": "hQoTYlES-zPi",
        "outputId": "4cf68fa2-546b-460a-9d44-1ef8dc6631c1"
      },
      "outputs": [
        {
          "output_type": "stream",
          "name": "stdout",
          "text": [
            "(178, 14)\n",
            "(124, 13)\n",
            "(54, 13)\n",
            "(124,)\n",
            "(54,)\n",
            "0.9814814814814815\n"
          ]
        }
      ],
      "source": [
        "#ライブラリ、モジュールなどのインポート\n",
        "from sklearn.datasets import load_wine\n",
        "from sklearn.model_selection import train_test_split\n",
        "from sklearn.ensemble import RandomForestClassifier\n",
        "from sklearn.metrics import accuracy_score\n",
        "import pandas as pd\n",
        "\n",
        "#ワインのデータを読み込む\n",
        "dataset = load_wine()\n",
        "#pandasの表で出力\n",
        "df = pd.DataFrame(data = dataset.data, columns = dataset.feature_names)\n",
        "df[\"category\"] = dataset.target\n",
        "df.head()\n",
        "print(df.shape)\n",
        "\n",
        "#サンプルデータを分割する\n",
        "X = dataset.data\n",
        "y = dataset.target\n",
        "\n",
        "X_train, X_test, y_train, y_test = train_test_split(X, y,test_size =0.3, random_state =5)\n",
        "print(X_train.shape)\n",
        "print(X_test.shape)\n",
        "print(y_train.shape)\n",
        "print(y_test.shape)\n",
        "\n",
        "#予測モデルのインスタンス化\n",
        "model_random_forest = RandomForestClassifier()\n",
        "\n",
        "#予測モデルの学習\n",
        "model_random_forest.fit(X_train, y_train)\n",
        "\n",
        "#予測モデルの評価\n",
        "#①テストデータで予測値を算出する\n",
        "y_pred = model_random_forest.predict(X_test)\n",
        "\n",
        "#②テストデータの正解率を算出する\n",
        "print(accuracy_score(y_test, y_pred))"
      ]
    },
    {
      "cell_type": "code",
      "source": [],
      "metadata": {
        "id": "hXKkptp2JGGm"
      },
      "execution_count": null,
      "outputs": []
    }
  ]
}